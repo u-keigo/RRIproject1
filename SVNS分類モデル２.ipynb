{
  "nbformat": 4,
  "nbformat_minor": 0,
  "metadata": {
    "colab": {
      "name": "SVNS分類モデル２.ipynb",
      "provenance": [],
      "collapsed_sections": [],
      "history_visible": true,
      "authorship_tag": "ABX9TyNkaQ4ZQnDwqsQ0OizwsxPx",
      "include_colab_link": true
    },
    "kernelspec": {
      "name": "python3",
      "display_name": "Python 3"
    },
    "language_info": {
      "name": "python"
    },
    "accelerator": "GPU"
  },
  "cells": [
    {
      "cell_type": "markdown",
      "metadata": {
        "id": "view-in-github",
        "colab_type": "text"
      },
      "source": [
        "<a href=\"https://colab.research.google.com/github/u-keigo/RRIproject1/blob/main/SVNS%E5%88%86%E9%A1%9E%E3%83%A2%E3%83%87%E3%83%AB%EF%BC%92.ipynb\" target=\"_parent\"><img src=\"https://colab.research.google.com/assets/colab-badge.svg\" alt=\"Open In Colab\"/></a>"
      ]
    },
    {
      "cell_type": "markdown",
      "metadata": {
        "id": "c1HveMR0zZae"
      },
      "source": [
        "クリーニング要る"
      ]
    },
    {
      "cell_type": "code",
      "metadata": {
        "id": "nKJAPa0BLqAP",
        "colab": {
          "base_uri": "https://localhost:8080/"
        },
        "outputId": "d4637ddd-d868-4e61-842b-d75ee34d5fa4"
      },
      "source": [
        "from google.colab import drive\n",
        "drive.mount('/content/drive')"
      ],
      "execution_count": 1,
      "outputs": [
        {
          "output_type": "stream",
          "name": "stdout",
          "text": [
            "Mounted at /content/drive\n"
          ]
        }
      ]
    },
    {
      "cell_type": "code",
      "metadata": {
        "id": "-e24TnGvL6xa"
      },
      "source": [
        "# クリーニングを行う関数を定義\n",
        "\n",
        "RRI_max = 1500\n",
        "RRI_min = 350\n",
        "RRI_diff = 150\n",
        "dt = 0.5   # second\n",
        "\n",
        "def read_RRI(name, RRI_max, RRI_min, RRI_diff, dt):\n",
        "  nums = []  # 整数を入れるリスト\n",
        "\n",
        "  with open(name, 'r', encoding='utf-8') as fin:  # ファイルを開く\n",
        "    for line in fin.readlines():  # 行を読み込んでfor文で回す\n",
        "        try:\n",
        "            line = line.replace('\\n','')\n",
        "            num = int(float(line))  # 行を整数（int）に変換する\n",
        "        except ValueError as e:\n",
        "            print(e, file=sys.stderr)  # エラーが出たら画面に出力\n",
        "            continue\n",
        "\n",
        "        nums.append(num)  # 変換した整数をリストに保存する\n",
        "\n",
        "\n",
        "  timecount = 0\n",
        "  time_RRI = []   # 時間軸\n",
        "  for i in range(len(nums)):\n",
        "    timecount = timecount + nums[i]/1000  # second\n",
        "    time_RRI.append(timecount)  # second\n",
        "\n",
        "\n",
        "  # RRIデータのクリーニング\n",
        "  # リストをnumpy配列に変換(これをしないとif文の不等号でエラーが発生する)\n",
        "  time_RRI_np = np.array(time_RRI)\n",
        "  nums_np = np.array(nums)\n",
        "\n",
        "  cleaning_counter1 = 0\n",
        "  RRI_cleaning = np.empty(0)\n",
        "  time_RRI2 = np.empty(0)   # time_RRIから外れ値を除いたものを格納する\n",
        "\n",
        "  for i in range(len(nums)):\n",
        "    if RRI_min < nums_np[i] and nums_np[i] < RRI_max:\n",
        "      RRI_cleaning = np.append(RRI_cleaning,nums_np[i]) \n",
        "      time_RRI2 = np.append(time_RRI2,time_RRI_np[i])\n",
        "    else:\n",
        "      cleaning_counter1 += 1  # クリーニングで消去した要素数を数える\n",
        "\n",
        "\n",
        "  RRI_cleaning2 = np.empty(0)\n",
        "  time_RRI3 = np.empty(0)\n",
        "\n",
        "  cleaning_counter2 = 0\n",
        "  for i in range(len(RRI_cleaning)-1):   #範囲を超えないように-1する\n",
        "    if RRI_cleaning[i+1] - RRI_cleaning[i] < RRI_diff:\n",
        "      RRI_cleaning2 = np.append(RRI_cleaning2,RRI_cleaning[i]) \n",
        "      time_RRI3 = np.append(time_RRI3,time_RRI2[i])\n",
        "    else:\n",
        "      cleaning_counter2 += 1  # クリーニングで消去した要素数を数える\n",
        "\n",
        "\n",
        "  # クリーニング後のリサンプリング\n",
        "  samp_len = int(time_RRI3[-1] / dt)  # サンプリング数\n",
        "  # t_resamp = np.linspace(0, samp_len*int(dt*1000),int(dt*1000))   # dt:float型\n",
        "  # t_resamp /= 1000   # second\n",
        "  t_resamp = np.arange(0, samp_len*dt, dt)   # dt:float型\n",
        "\n",
        "  RRI_resamp = np.interp(t_resamp, time_RRI3, RRI_cleaning2)\n",
        "\n",
        "  print(cleaning_counter1,cleaning_counter2)\n",
        "\n",
        "  return (t_resamp, RRI_resamp)"
      ],
      "execution_count": 2,
      "outputs": []
    },
    {
      "cell_type": "code",
      "metadata": {
        "colab": {
          "base_uri": "https://localhost:8080/"
        },
        "id": "Ut3yrbSvCaA2",
        "outputId": "283f7fbe-ea3d-4f39-9945-0d8721fac74d"
      },
      "source": [
        "import os\n",
        "from glob import glob\n",
        "import pandas as pd\n",
        "import linecache\n",
        "\n",
        "\n",
        "# カテゴリを配列で取得\n",
        "drive_dir = \"/content/drive/My Drive/python/HRV_CHF/\"\n",
        "\n",
        "categories = [name for name in os.listdir(drive_dir + '24h') if os.path.isdir(drive_dir + \"24h/\" +name)]\n",
        "print(categories)\n"
      ],
      "execution_count": 3,
      "outputs": [
        {
          "output_type": "stream",
          "name": "stdout",
          "text": [
            "['NS_24h', 'SV_24h']\n"
          ]
        }
      ]
    },
    {
      "cell_type": "code",
      "metadata": {
        "id": "GFGWiR5YCbc0",
        "colab": {
          "base_uri": "https://localhost:8080/"
        },
        "outputId": "93a04275-ac31-46a5-939f-4a19a6947f5c"
      },
      "source": [
        "import numpy as np\n",
        "\n",
        "fix_length = 70000   # 取り出すデータ点の数\n",
        "num_SV = 73   # SVファイルの数\n",
        "num_NS = 45   # NSファイルの数\n",
        "num_data = num_SV + num_NS   # ファイルの数\n",
        "\n",
        "DAT = pd.DataFrame(np.zeros(shape=(fix_length, num_data)))\n",
        "i=0\n",
        "for cat in categories:\n",
        "    path = drive_dir + \"24h/\" + cat + \"/*.24h\"\n",
        "    files = glob(path)\n",
        "    for text_name in files:\n",
        "      t_resamp, RRI_resamp = read_RRI(text_name, RRI_max, RRI_min, RRI_diff, dt)\n",
        "      data = pd.Series(RRI_resamp)\n",
        "      DAT.iloc[:, i] = data\n",
        "      DAT.rename(columns={i: cat}, inplace=True)\n",
        "      i = i+1\n",
        "\n",
        "\n",
        "# データがうまく取れている列のみ抽出\n",
        "DAT2 = DAT.loc[:,['NS_24h','SV_24h']]\n",
        "\n",
        "DAT3 = DAT2.sample(frac=1,axis=1,random_state=0).reset_index(drop=True)\n",
        "DAT4 = DAT3.T\n",
        "DAT4.head()\n",
        "\n",
        "# DataFrameをドライブに保存(データの読み込みに時間がかかるのを防ぐ)\n",
        "\n",
        "import pickle\n",
        "\n",
        "filename = 'SVNS_df_108_70000.sav'\n",
        "pickle.dump(DAT4, open(filename, 'wb'))\n",
        "\n",
        "!cp \"./{filename}\" ./drive/My\\ Drive/.\n"
      ],
      "execution_count": 5,
      "outputs": [
        {
          "output_type": "stream",
          "name": "stdout",
          "text": [
            "0 1749\n",
            "0 30\n",
            "0 25\n",
            "0 12812\n",
            "0 597\n",
            "0 91\n",
            "0 41\n",
            "0 105\n",
            "0 2586\n",
            "4 13600\n",
            "0 1204\n",
            "0 3\n",
            "0 26\n",
            "0 21\n",
            "0 11\n",
            "0 4\n",
            "0 19\n",
            "0 835\n",
            "0 5\n",
            "0 26\n",
            "0 22\n",
            "0 27\n",
            "0 1\n",
            "181 10719\n",
            "0 835\n",
            "0 434\n",
            "0 1469\n",
            "0 135\n",
            "0 6878\n",
            "0 4\n",
            "0 261\n",
            "0 303\n",
            "0 22\n",
            "0 1422\n",
            "0 1274\n",
            "0 2\n",
            "0 355\n",
            "0 233\n",
            "0 175\n",
            "0 20\n",
            "0 42\n",
            "0 55\n",
            "0 11\n",
            "0 157\n",
            "2 4267\n",
            "0 81\n",
            "0 34\n",
            "0 110\n",
            "0 14\n",
            "247 3278\n",
            "0 38\n",
            "0 241\n",
            "0 1958\n",
            "1 195\n",
            "0 61\n",
            "0 387\n",
            "0 191\n",
            "0 201\n",
            "3 1905\n",
            "0 10544\n",
            "0 6534\n",
            "1256 20313\n",
            "0 18\n",
            "0 34\n",
            "0 164\n",
            "0 77\n",
            "0 32\n",
            "0 26\n",
            "0 29\n",
            "0 111\n",
            "615 7336\n",
            "0 3\n",
            "0 128\n",
            "0 10471\n",
            "0 3500\n",
            "0 58\n",
            "0 258\n",
            "0 12\n",
            "0 124\n",
            "0 3\n",
            "0 464\n",
            "0 805\n",
            "0 20\n",
            "0 57\n",
            "0 460\n",
            "0 303\n",
            "0 2\n",
            "0 49\n",
            "0 103\n",
            "0 15\n",
            "0 224\n",
            "0 3141\n",
            "0 266\n",
            "0 147\n",
            "0 85\n",
            "0 197\n",
            "0 137\n",
            "0 417\n",
            "0 191\n",
            "0 3966\n",
            "0 307\n",
            "0 716\n",
            "0 11\n",
            "0 81\n",
            "0 0\n",
            "0 115\n",
            "0 89\n",
            "0 5\n"
          ]
        }
      ]
    },
    {
      "cell_type": "code",
      "metadata": {
        "colab": {
          "base_uri": "https://localhost:8080/",
          "height": 295
        },
        "id": "4AP5oFWRCmRn",
        "outputId": "50bdc310-927a-4c13-e5a4-47779fff485d"
      },
      "source": [
        "import matplotlib.pyplot as plt\n",
        "\n",
        "# データがうまく取れている列のみ抽出\n",
        "DAT2 = DAT.loc[:,['NS_24h','SV_24h']]\n",
        "\n",
        "DAT3 = DAT2.sample(frac=1,axis=1,random_state=0).reset_index(drop=True)\n",
        "DAT4 = DAT3.T\n",
        "DAT4.head()\n",
        "\n",
        "time_resamp = np.arange(0, fix_length*dt,dt)   # numpy型\n",
        "\n",
        "plt.figure()\n",
        "plt.plot(time_resamp, DAT4.iloc[0], color='blue', label=DAT4.index[0])\n",
        "plt.plot(time_resamp, DAT4.iloc[1], color='red', label=DAT4.index[1])\n",
        "plt.legend()\n",
        "plt.xlabel('time [s]')\n",
        "plt.ylabel('R-R interval')\n",
        "plt.title('HRV_CHF')\n",
        "plt.grid()\n",
        "plt.show()"
      ],
      "execution_count": null,
      "outputs": [
        {
          "output_type": "display_data",
          "data": {
            "image/png": "[encoded data removed]",
            "text/plain": [
              "<Figure size 432x288 with 1 Axes>"
            ]
          },
          "metadata": {
            "needs_background": "light"
          }
        }
      ]
    },
    {
      "cell_type": "code",
      "metadata": {
        "id": "LKxSIPNUW7LB",
        "colab": {
          "base_uri": "https://localhost:8080/",
          "height": 248
        },
        "outputId": "2d19dc24-7a68-41ef-e15d-a8b39a1d3deb"
      },
      "source": [
        "# DataFrameをドライブに保存(データの読み込みに時間がかかるのを防ぐ)\n",
        "\n",
        "import pickle\n",
        "\n",
        "filename = 'SVNS_df_5000.sav'\n",
        "pickle.dump(DAT4, open(filename, 'wb'))\n",
        "\n",
        "!cp \"./{filename}\" ./drive/My\\ Drive/.\n"
      ],
      "execution_count": null,
      "outputs": [
        {
          "output_type": "error",
          "ename": "NameError",
          "evalue": "ignored",
          "traceback": [
            "\u001b[0;31m---------------------------------------------------------------------------\u001b[0m",
            "\u001b[0;31mNameError\u001b[0m                                 Traceback (most recent call last)",
            "\u001b[0;32m<ipython-input-2-63a257443c8e>\u001b[0m in \u001b[0;36m<module>\u001b[0;34m()\u001b[0m\n\u001b[1;32m      4\u001b[0m \u001b[0;34m\u001b[0m\u001b[0m\n\u001b[1;32m      5\u001b[0m \u001b[0mfilename\u001b[0m \u001b[0;34m=\u001b[0m \u001b[0;34m'SVNS_df_5000.sav'\u001b[0m\u001b[0;34m\u001b[0m\u001b[0;34m\u001b[0m\u001b[0m\n\u001b[0;32m----> 6\u001b[0;31m \u001b[0mpickle\u001b[0m\u001b[0;34m.\u001b[0m\u001b[0mdump\u001b[0m\u001b[0;34m(\u001b[0m\u001b[0mDAT4\u001b[0m\u001b[0;34m,\u001b[0m \u001b[0mopen\u001b[0m\u001b[0;34m(\u001b[0m\u001b[0mfilename\u001b[0m\u001b[0;34m,\u001b[0m \u001b[0;34m'wb'\u001b[0m\u001b[0;34m)\u001b[0m\u001b[0;34m)\u001b[0m\u001b[0;34m\u001b[0m\u001b[0;34m\u001b[0m\u001b[0m\n\u001b[0m\u001b[1;32m      7\u001b[0m \u001b[0;34m\u001b[0m\u001b[0m\n\u001b[1;32m      8\u001b[0m \u001b[0mget_ipython\u001b[0m\u001b[0;34m(\u001b[0m\u001b[0;34m)\u001b[0m\u001b[0;34m.\u001b[0m\u001b[0msystem\u001b[0m\u001b[0;34m(\u001b[0m\u001b[0;34m'cp \"./{filename}\" ./drive/My\\\\ Drive/.'\u001b[0m\u001b[0;34m)\u001b[0m\u001b[0;34m\u001b[0m\u001b[0;34m\u001b[0m\u001b[0m\n",
            "\u001b[0;31mNameError\u001b[0m: name 'DAT4' is not defined"
          ]
        }
      ]
    },
    {
      "cell_type": "code",
      "metadata": {
        "id": "NWM7FhEO7oep",
        "colab": {
          "base_uri": "https://localhost:8080/"
        },
        "outputId": "70a03e3a-b84a-40d6-bf2b-8a623abd1b33"
      },
      "source": [
        "import pickle\n",
        "\n",
        "# DataFrameを読み込む（時間短縮）\n",
        "\n",
        "filename = '/content/drive/MyDrive/SVNS_df_108_70000.sav'\n",
        "\n",
        "with open(filename, 'rb') as web:\n",
        "  DAT5 = pickle.load(web)   # DAT5 = DAT4\n",
        "\n",
        "print(DAT5)\n",
        "print(DAT5.isnull().sum(axis=1))\n",
        "print(DAT5.index)"
      ],
      "execution_count": 4,
      "outputs": [
        {
          "output_type": "stream",
          "name": "stdout",
          "text": [
            "         0       1            2      ...        69997        69998        69999\n",
            "SV_24h   624.0   624.0   619.116883  ...   767.958763   802.209524   839.434783\n",
            "NS_24h   808.0   808.0   789.217391  ...   862.198198   880.216216   890.535714\n",
            "SV_24h   584.0   584.0   578.222222  ...   784.000000   784.000000   792.240000\n",
            "NS_24h   640.0   640.0   644.444444  ...   592.000000   578.444445   592.480000\n",
            "NS_24h  1136.0  1136.0  1136.000000  ...   943.469027   921.345133   907.692308\n",
            "...        ...     ...          ...  ...          ...          ...          ...\n",
            "SV_24h   784.0   784.0   788.320000  ...   702.318182   695.813953   691.727273\n",
            "SV_24h   608.0   608.0   597.405405  ...   544.000000   550.840580   539.462687\n",
            "SV_24h   704.0   704.0   704.000000  ...   746.833333   767.666667   752.129032\n",
            "SV_24h   672.0   672.0   664.000000  ...  1002.825397  1006.793651  1005.216000\n",
            "SV_24h   864.0   864.0   864.000000  ...  1035.875969  1032.000000   998.942149\n",
            "\n",
            "[108 rows x 70000 columns]\n",
            "SV_24h    0\n",
            "NS_24h    0\n",
            "SV_24h    0\n",
            "NS_24h    0\n",
            "NS_24h    0\n",
            "         ..\n",
            "SV_24h    0\n",
            "SV_24h    0\n",
            "SV_24h    0\n",
            "SV_24h    0\n",
            "SV_24h    0\n",
            "Length: 108, dtype: int64\n",
            "Index(['SV_24h', 'NS_24h', 'SV_24h', 'NS_24h', 'NS_24h', 'SV_24h', 'SV_24h',\n",
            "       'NS_24h', 'NS_24h', 'SV_24h',\n",
            "       ...\n",
            "       'SV_24h', 'NS_24h', 'NS_24h', 'SV_24h', 'NS_24h', 'SV_24h', 'SV_24h',\n",
            "       'SV_24h', 'SV_24h', 'SV_24h'],\n",
            "      dtype='object', length=108)\n"
          ]
        }
      ]
    },
    {
      "cell_type": "code",
      "metadata": {
        "id": "5lT9BP0t4Yfr"
      },
      "source": [
        "# 列数をnum分割するようにデータフレームをreshapeする関数\n",
        "# shape(108,10000) → shape(540,2000)\n",
        "\n",
        "import numpy as np\n",
        "\n",
        "def df_reshape(df, num):\n",
        "  M = df.shape[0]   # 108\n",
        "  N = df.shape[1]   # 10000\n",
        "  \n",
        "  df_new = pd.DataFrame(np.zeros(shape=(int(M*num), int(N/num))))\n",
        "\n",
        "  count = 0\n",
        "  for i in range(M):   # range(3) = 0,1,2\n",
        "    for j in range(num):\n",
        "      df_new = df_new.rename({count:df.index[i]},axis=0)   # indexの置換\n",
        "      start = int(N/num)*j\n",
        "      goal = int(N/num)*(j+1)   # 1:5 = 1,2,3,4\n",
        "      df_new.iloc[count] = df.iloc[i, start:goal].to_numpy()   # 値だけ抽出するためにnumpy配列に変換\n",
        "      count += 1\n",
        "  \n",
        "  return df_new\n",
        "\n",
        "# データの長さを1/5し、データ数を5倍する\n",
        "DAT6 = df_reshape(DAT5, 14)"
      ],
      "execution_count": 6,
      "outputs": []
    },
    {
      "cell_type": "code",
      "metadata": {
        "colab": {
          "base_uri": "https://localhost:8080/"
        },
        "id": "HAKK9edDmqui",
        "outputId": "a1a711d8-4ca5-4610-ac9d-9aa207d16e0d"
      },
      "source": [
        "# DataFrameをドライブに保存(データの読み込みに時間がかかるのを防ぐ)\n",
        "\n",
        "import pickle\n",
        "\n",
        "filename = 'SVNS_df_540_2000.sav'\n",
        "pickle.dump(DAT6, open(filename, 'wb'))\n",
        "\n",
        "!cp \"./{filename}\" ./drive/My\\ Drive/.\n",
        "\n",
        "\n",
        "# DataFrameを読み込む（時間短縮）\n",
        "\n",
        "filename = '/content/drive/MyDrive/SVNS_df_540_2000.sav'\n",
        "\n",
        "with open(filename, 'rb') as web:\n",
        "  DAT6 = pickle.load(web)   # DAT5 = DAT4\n",
        "\n",
        "print(DAT6)\n",
        "print(DAT6.isnull().sum(axis=1))\n",
        "print(DAT6.index)"
      ],
      "execution_count": 13,
      "outputs": [
        {
          "output_type": "stream",
          "name": "stdout",
          "text": [
            "                 0           1           2  ...        1998        1999   index\n",
            "SV_24h  624.000000  624.000000  619.116883  ...  637.200000  617.621622  SV_24h\n",
            "SV_24h  613.904762  671.400000  646.400000  ...  630.457831  661.194805  SV_24h\n",
            "SV_24h  622.233766  616.000000  594.888889  ...  574.422535  568.000000  SV_24h\n",
            "SV_24h  579.351351  589.424658  585.405405  ...  603.384615  622.615385  SV_24h\n",
            "SV_24h  617.974026  591.833333  596.923077  ...  621.832258  620.000000  SV_24h\n",
            "...            ...         ...         ...  ...         ...         ...     ...\n",
            "SV_24h  864.000000  864.000000  864.000000  ...  849.207547  843.542857  SV_24h\n",
            "SV_24h  838.769231  833.961538  842.962963  ...  898.545455  884.909091  SV_24h\n",
            "SV_24h  877.064220  872.477064  884.000000  ...  886.796460  900.070796  SV_24h\n",
            "SV_24h  910.121739  918.817391  904.432432  ...  896.000000  894.788991  SV_24h\n",
            "SV_24h  881.027523  875.099099  884.108108  ...  929.103448  924.765217  SV_24h\n",
            "\n",
            "[540 rows x 2001 columns]\n",
            "SV_24h    0\n",
            "SV_24h    0\n",
            "SV_24h    0\n",
            "SV_24h    0\n",
            "SV_24h    0\n",
            "         ..\n",
            "SV_24h    0\n",
            "SV_24h    0\n",
            "SV_24h    0\n",
            "SV_24h    0\n",
            "SV_24h    0\n",
            "Length: 540, dtype: int64\n",
            "Index(['SV_24h', 'SV_24h', 'SV_24h', 'SV_24h', 'SV_24h', 'NS_24h', 'NS_24h',\n",
            "       'NS_24h', 'NS_24h', 'NS_24h',\n",
            "       ...\n",
            "       'SV_24h', 'SV_24h', 'SV_24h', 'SV_24h', 'SV_24h', 'SV_24h', 'SV_24h',\n",
            "       'SV_24h', 'SV_24h', 'SV_24h'],\n",
            "      dtype='object', length=540)\n"
          ]
        }
      ]
    },
    {
      "cell_type": "code",
      "metadata": {
        "id": "7nQbIVvqdDWk",
        "colab": {
          "base_uri": "https://localhost:8080/"
        },
        "outputId": "654fc030-068a-48ef-d8c4-1939df27a1c0"
      },
      "source": [
        "from sklearn.model_selection import train_test_split\n",
        "import torch\n",
        "from torch.utils.data import TensorDataset, DataLoader\n",
        "from torch import nn\n",
        "import torch.nn.functional as F\n",
        "from torch import optim\n",
        "\n",
        "\n",
        "category2index = {}\n",
        "for cat in categories:\n",
        "    if cat in category2index: continue\n",
        "    category2index[cat] = len(category2index)\n",
        "print(category2index)\n",
        "# {'NS_24h': 0, 'SV_24h': 1}\n",
        "\n",
        "def category2tensor(cat):\n",
        "    return torch.tensor([category2index[cat]], dtype=torch.long)\n",
        "\n",
        "# データフレームの形状変更・indexの要素化\n",
        "# df = DAT5\n",
        "df = DAT6\n",
        "df['index'] = df.index\n",
        "df.head()\n",
        "\n",
        "dlen = len(DAT5.columns)  # 108\n",
        "train_data, test_data = train_test_split(df, test_size=0.3,random_state=0)\n",
        "print(\"train_data size: {}\". format(train_data.shape))\n",
        "# train_data size: (75, 2001)\n",
        "print(\"test_data size: {}\". format(test_data.shape))\n",
        "# test_data size: (33, 2001)\n",
        "\n",
        "# DataLoaderを使って、データセットを128個のミニパッチに分ける\n",
        "# ミニパッチサイズを指定したデータローダを作成\n",
        "train_batch = DataLoader(\n",
        "    dataset = train_data,   # データセットの指定\n",
        "    batch_size = 64,   # バッチサイズの指定\n",
        "    shuffle = True,    # シャッフルするかどうかの指定\n",
        "    num_workers = 2)   # コアの数\n",
        "\n",
        "test_batch = DataLoader(\n",
        "    dataset = test_data,   # データセットの指定\n",
        "    batch_size = 32,   # バッチサイズの指定\n",
        "    shuffle = False,    # シャッフルするかどうかの指定\n",
        "    num_workers = 2)   # コアの数\n"
      ],
      "execution_count": 8,
      "outputs": [
        {
          "output_type": "stream",
          "name": "stdout",
          "text": [
            "{'NS_24h': 0, 'SV_24h': 1}\n",
            "train_data size: (1058, 5001)\n",
            "test_data size: (454, 5001)\n"
          ]
        }
      ]
    },
    {
      "cell_type": "code",
      "metadata": {
        "colab": {
          "base_uri": "https://localhost:8080/"
        },
        "id": "5YFCGQHKnT-c",
        "outputId": "bb9c0e0c-78a1-45c7-92bb-3b2919ea9aa0"
      },
      "source": [
        "# nn.Moduleを継承して新しいクラスを作る。決まり文句\n",
        "class LSTMClassifier(nn.Module):\n",
        "    # モデルで使う各ネットワークをコンストラクタで定義\n",
        "    def __init__(self, embedding_dim, hidden_dim, tagset_size):\n",
        "        # 親クラスのコンストラクタ。決まり文句\n",
        "        super(LSTMClassifier, self).__init__()\n",
        "        # 隠れ層の次元数。これは好きな値に設定しても行列計算の過程で出力には出てこないので。\n",
        "        self.hidden_dim = hidden_dim\n",
        "        # インプットの単語をベクトル化するために使う\n",
        "        # self.word_embeddings = nn.Embedding(vocab_size, embedding_dim)\n",
        "        # LSTMの隠れ層。これ１つでOK。超便利。\n",
        "        self.lstm = nn.LSTM(embedding_dim, hidden_dim)\n",
        "        # LSTMの出力を受け取って全結合してsoftmaxに食わせるための１層のネットワーク\n",
        "        self.hidden2tag = nn.Linear(hidden_dim, tagset_size)\n",
        "        # softmaxのLog版。dim=0で列、dim=1で行方向を確率変換。\n",
        "        self.softmax = nn.LogSoftmax(dim=1)\n",
        "\n",
        "    # 順伝播処理はforward関数に記載\n",
        "    def forward(self, sentence):\n",
        "        # 文章内の各単語をベクトル化して出力。2次元のテンソル\n",
        "        # embeds = self.word_embeddings(sentence)\n",
        "        embeds = sentence\n",
        "        # 2次元テンソルをLSTMに食わせられる様にviewで３次元テンソルにした上でLSTMへ流す。\n",
        "        # 上記で説明した様にmany to oneのタスクを解きたいので、第二戻り値だけ使う。\n",
        "        _, lstm_out = self.lstm(embeds.view(len(sentence), 1, -1))\n",
        "        # lstm_out[0]は３次元テンソルになってしまっているので2次元に調整して全結合。\n",
        "        tag_space = self.hidden2tag(lstm_out[0].view(-1, self.hidden_dim))\n",
        "        # softmaxに食わせて、確率として表現\n",
        "        tag_scores = self.softmax(tag_space)\n",
        "        return tag_scores\n",
        "\n",
        "category2index = {}\n",
        "for cat in categories:\n",
        "    if cat in category2index: continue\n",
        "    category2index[cat] = len(category2index)\n",
        "print(category2index)\n",
        "#{'movie-enter': 0, 'it-life-hack': 1, 'kaden-channel': 2, 'topic-news': 3, 'livedoor-homme': 4, 'peachy': 5, 'sports-watch': 6, 'dokujo-tsushin': 7, 'smax': 8}\n",
        "\n",
        "def category2tensor(cat):\n",
        "    return torch.tensor([category2index[cat]], dtype=torch.long)\n",
        "\n"
      ],
      "execution_count": 9,
      "outputs": [
        {
          "output_type": "stream",
          "name": "stdout",
          "text": [
            "{'NS_24h': 0, 'SV_24h': 1}\n"
          ]
        }
      ]
    },
    {
      "cell_type": "code",
      "metadata": {
        "colab": {
          "base_uri": "https://localhost:8080/",
          "height": 819
        },
        "id": "4wmPuOL6nlxc",
        "outputId": "c74a4dba-ff20-4ae3-ed00-fbfe3622c36d"
      },
      "source": [
        "import numpy as np\n",
        "\n",
        "# 入力次元数\n",
        "EMBEDDING_DIM = 1\n",
        "# 隠れ層の次元数\n",
        "HIDDEN_DIM = 128\n",
        "# 分類先のカテゴリの数\n",
        "TAG_SIZE = len(categories)\n",
        "\n",
        "\n",
        "# ネットワークのロード\n",
        "# CPUとGPUのどちらを使うかを指定\n",
        "device = torch.device('cuda' if torch.cuda.is_available() else 'cpu')\n",
        "# モデル宣言\n",
        "net = LSTMClassifier(EMBEDDING_DIM, HIDDEN_DIM, TAG_SIZE).to(device)\n",
        "# デバイスの確認\n",
        "print(\"Device: {}\".format(device))\n",
        "\n",
        "\n",
        "# 損失関数はNLLLoss()を使う。LogSoftmaxを使う時はこれを使うらしい。\n",
        "loss_function = nn.NLLLoss()\n",
        "# 最適化関数の定義\n",
        "optimizer = optim.Adam(net.parameters())\n",
        "\n",
        "\n",
        "# 損失を保存するリストを作成\n",
        "train_loss_list = []  # 学習損失\n",
        "test_loss_list = []  # 評価損失\n",
        "\n",
        "# epoch = 100\n",
        "epoch = 20\n",
        "\n",
        "# 各エポックの合計loss値を格納する\n",
        "losses = []\n",
        "# 100ループ回してみる。\n",
        "for i in range(epoch):\n",
        "  all_loss = 0\n",
        "  # エポックの進行状況を表示\n",
        "  print('-------------------------------------')\n",
        "  print(\"Epoch: {}/{}\".format(i+1,epoch))\n",
        "\n",
        "  # 損失の初期化\n",
        "  # train_loss = 0  # 学習損失\n",
        "  # test_loss = 0  # 評価損失\n",
        "\n",
        "  # ---学習パート--- #\n",
        "  # ニューラルネットワークを学習モードに設定\n",
        "  net.train()\n",
        "  for ii in range(0,len(train_data)):\n",
        "        data = train_data.iloc[ii][:-1]\n",
        "        cat = train_data.iloc[ii]['index']\n",
        "        # モデルが持ってる勾配の情報をリセット\n",
        "        net.zero_grad()\n",
        "        # 文章を単語IDの系列に変換（modelに食わせられる形に変換）\n",
        "        inputs = torch.tensor(np.array(data.astype('f')))\n",
        "        # GPUにTensorを転送\n",
        "        inputs = inputs.to(device)\n",
        "        # 順伝播の結果を受け取る\n",
        "        out = net(inputs)\n",
        "        # 正解カテゴリをテンソル化\n",
        "        answer = category2tensor(cat)\n",
        "        # GPUにTensorを転送\n",
        "        answer = answer.to(device)\n",
        "        # 正解とのlossを計算\n",
        "        loss = loss_function(out, answer)\n",
        "        # 勾配をセット\n",
        "        loss.backward()\n",
        "        # 逆伝播でパラメータ更新\n",
        "        optimizer.step()\n",
        "        # lossを集計\n",
        "        all_loss += loss.item()\n",
        "  losses.append(all_loss)\n",
        "  print(\"epoch\", i+1, \"\\t\" , \"loss\", all_loss)\n",
        "print(\"done.\")"
      ],
      "execution_count": null,
      "outputs": [
        {
          "output_type": "stream",
          "name": "stdout",
          "text": [
            "Device: cuda\n",
            "-------------------------------------\n",
            "Epoch: 1/20\n",
            "epoch 1 \t loss 704.0066237449646\n",
            "-------------------------------------\n",
            "Epoch: 2/20\n",
            "epoch 2 \t loss 699.6668643057346\n",
            "-------------------------------------\n",
            "Epoch: 3/20\n",
            "epoch 3 \t loss 699.588208168745\n",
            "-------------------------------------\n",
            "Epoch: 4/20\n",
            "epoch 4 \t loss 699.8204389214516\n",
            "-------------------------------------\n",
            "Epoch: 5/20\n",
            "epoch 5 \t loss 699.6967293322086\n",
            "-------------------------------------\n",
            "Epoch: 6/20\n",
            "epoch 6 \t loss 699.865477502346\n",
            "-------------------------------------\n",
            "Epoch: 7/20\n",
            "epoch 7 \t loss 700.5833949744701\n",
            "-------------------------------------\n",
            "Epoch: 8/20\n"
          ]
        },
        {
          "output_type": "error",
          "ename": "KeyboardInterrupt",
          "evalue": "ignored",
          "traceback": [
            "\u001b[0;31m---------------------------------------------------------------------------\u001b[0m",
            "\u001b[0;31mKeyboardInterrupt\u001b[0m                         Traceback (most recent call last)",
            "\u001b[0;32m<ipython-input-11-cd7ccb67187f>\u001b[0m in \u001b[0;36m<module>\u001b[0;34m()\u001b[0m\n\u001b[1;32m     65\u001b[0m         \u001b[0mloss\u001b[0m \u001b[0;34m=\u001b[0m \u001b[0mloss_function\u001b[0m\u001b[0;34m(\u001b[0m\u001b[0mout\u001b[0m\u001b[0;34m,\u001b[0m \u001b[0manswer\u001b[0m\u001b[0;34m)\u001b[0m\u001b[0;34m\u001b[0m\u001b[0;34m\u001b[0m\u001b[0m\n\u001b[1;32m     66\u001b[0m         \u001b[0;31m# 勾配をセット\u001b[0m\u001b[0;34m\u001b[0m\u001b[0;34m\u001b[0m\u001b[0;34m\u001b[0m\u001b[0m\n\u001b[0;32m---> 67\u001b[0;31m         \u001b[0mloss\u001b[0m\u001b[0;34m.\u001b[0m\u001b[0mbackward\u001b[0m\u001b[0;34m(\u001b[0m\u001b[0;34m)\u001b[0m\u001b[0;34m\u001b[0m\u001b[0;34m\u001b[0m\u001b[0m\n\u001b[0m\u001b[1;32m     68\u001b[0m         \u001b[0;31m# 逆伝播でパラメータ更新\u001b[0m\u001b[0;34m\u001b[0m\u001b[0;34m\u001b[0m\u001b[0;34m\u001b[0m\u001b[0m\n\u001b[1;32m     69\u001b[0m         \u001b[0moptimizer\u001b[0m\u001b[0;34m.\u001b[0m\u001b[0mstep\u001b[0m\u001b[0;34m(\u001b[0m\u001b[0;34m)\u001b[0m\u001b[0;34m\u001b[0m\u001b[0;34m\u001b[0m\u001b[0m\n",
            "\u001b[0;32m/usr/local/lib/python3.7/dist-packages/torch/_tensor.py\u001b[0m in \u001b[0;36mbackward\u001b[0;34m(self, gradient, retain_graph, create_graph, inputs)\u001b[0m\n\u001b[1;32m    305\u001b[0m                 \u001b[0mcreate_graph\u001b[0m\u001b[0;34m=\u001b[0m\u001b[0mcreate_graph\u001b[0m\u001b[0;34m,\u001b[0m\u001b[0;34m\u001b[0m\u001b[0;34m\u001b[0m\u001b[0m\n\u001b[1;32m    306\u001b[0m                 inputs=inputs)\n\u001b[0;32m--> 307\u001b[0;31m         \u001b[0mtorch\u001b[0m\u001b[0;34m.\u001b[0m\u001b[0mautograd\u001b[0m\u001b[0;34m.\u001b[0m\u001b[0mbackward\u001b[0m\u001b[0;34m(\u001b[0m\u001b[0mself\u001b[0m\u001b[0;34m,\u001b[0m \u001b[0mgradient\u001b[0m\u001b[0;34m,\u001b[0m \u001b[0mretain_graph\u001b[0m\u001b[0;34m,\u001b[0m \u001b[0mcreate_graph\u001b[0m\u001b[0;34m,\u001b[0m \u001b[0minputs\u001b[0m\u001b[0;34m=\u001b[0m\u001b[0minputs\u001b[0m\u001b[0;34m)\u001b[0m\u001b[0;34m\u001b[0m\u001b[0;34m\u001b[0m\u001b[0m\n\u001b[0m\u001b[1;32m    308\u001b[0m \u001b[0;34m\u001b[0m\u001b[0m\n\u001b[1;32m    309\u001b[0m     \u001b[0;32mdef\u001b[0m \u001b[0mregister_hook\u001b[0m\u001b[0;34m(\u001b[0m\u001b[0mself\u001b[0m\u001b[0;34m,\u001b[0m \u001b[0mhook\u001b[0m\u001b[0;34m)\u001b[0m\u001b[0;34m:\u001b[0m\u001b[0;34m\u001b[0m\u001b[0;34m\u001b[0m\u001b[0m\n",
            "\u001b[0;32m/usr/local/lib/python3.7/dist-packages/torch/autograd/__init__.py\u001b[0m in \u001b[0;36mbackward\u001b[0;34m(tensors, grad_tensors, retain_graph, create_graph, grad_variables, inputs)\u001b[0m\n\u001b[1;32m    154\u001b[0m     Variable._execution_engine.run_backward(\n\u001b[1;32m    155\u001b[0m         \u001b[0mtensors\u001b[0m\u001b[0;34m,\u001b[0m \u001b[0mgrad_tensors_\u001b[0m\u001b[0;34m,\u001b[0m \u001b[0mretain_graph\u001b[0m\u001b[0;34m,\u001b[0m \u001b[0mcreate_graph\u001b[0m\u001b[0;34m,\u001b[0m \u001b[0minputs\u001b[0m\u001b[0;34m,\u001b[0m\u001b[0;34m\u001b[0m\u001b[0;34m\u001b[0m\u001b[0m\n\u001b[0;32m--> 156\u001b[0;31m         allow_unreachable=True, accumulate_grad=True)  # allow_unreachable flag\n\u001b[0m\u001b[1;32m    157\u001b[0m \u001b[0;34m\u001b[0m\u001b[0m\n\u001b[1;32m    158\u001b[0m \u001b[0;34m\u001b[0m\u001b[0m\n",
            "\u001b[0;31mKeyboardInterrupt\u001b[0m: "
          ]
        }
      ]
    },
    {
      "cell_type": "code",
      "metadata": {
        "id": "gp_KiMSJoi-y"
      },
      "source": [
        "import matplotlib.pyplot as plt\n",
        "# 損失\n",
        "fig2 = plt.figure()\n",
        "plt.title('Train_loss')\n",
        "plt.xlabel('Epoch')\n",
        "plt.ylabel('Loss')\n",
        "plt.plot(range(1, epoch+1), losses)\n",
        "plt.show()"
      ],
      "execution_count": null,
      "outputs": []
    },
    {
      "cell_type": "code",
      "metadata": {
        "id": "NyrttmZdp-Qz"
      },
      "source": [
        "# テストデータの母数計算\n",
        "test_num = len(test_data)\n",
        "# 正解の件数\n",
        "a = 0\n",
        "# 勾配自動計算OFF\n",
        "with torch.no_grad():\n",
        "    for ii in range(0,len(test_data)):\n",
        "        data = test_data.iloc[ii][:-1]\n",
        "        # cat = train_data.iloc[ii][0]\n",
        "        cat = test_data.iloc[ii]['index']\n",
        "\n",
        "        inputs = torch.tensor(np.array(data.astype('f')))\n",
        "        # GPUにTensorを転送\n",
        "        inputs = inputs.to(device)\n",
        "        # 順伝播の結果を受け取る\n",
        "        out = net(inputs)\n",
        "        # 正解カテゴリをテンソル化\n",
        "        answer = category2tensor(cat)\n",
        "        # GPUにTensorを転送\n",
        "        answer = answer.to(device)\n",
        "        # 正解とのlossを計算\n",
        "        # loss = loss_function(out, answer)\n",
        "        # inputs = sentence2index(title)\n",
        "        # out = model(inputs)\n",
        "        _, predict = torch.max(out, 1)\n",
        "        # answer = category2tensor(cat)\n",
        "        if predict == answer:\n",
        "            a += 1\n",
        "print(\"predict : \", a / test_num)\n",
        "# predict :  0.5757575757575758(19/33)"
      ],
      "execution_count": null,
      "outputs": []
    },
    {
      "cell_type": "code",
      "metadata": {
        "id": "zbQjkfyPqKgp"
      },
      "source": [
        "traindata_num = len(train_data)\n",
        "a = 0\n",
        "with torch.no_grad():\n",
        "    for ii in range(0,len(train_data)):\n",
        "        data = train_data.iloc[ii][:-1]\n",
        "        # cat = train_data.iloc[ii][0]\n",
        "        cat = train_data.iloc[ii]['index']\n",
        "\n",
        "        inputs = torch.tensor(np.array(data.astype('f')))\n",
        "        # GPUにTensorを転送\n",
        "        inputs = inputs.to(device)\n",
        "        # 順伝播の結果を受け取る\n",
        "        out = net(inputs)\n",
        "        # 正解カテゴリをテンソル化\n",
        "        answer = category2tensor(cat)\n",
        "        # GPUにTensorを転送\n",
        "        answer = answer.to(device)\n",
        "        # 正解とのlossを計算\n",
        "        # loss = loss_function(out, answer)\n",
        "        # inputs = sentence2index(title)\n",
        "        # out = model(inputs)\n",
        "        _, predict = torch.max(out, 1)\n",
        "        # answer = category2tensor(cat)\n",
        "        if predict == answer:\n",
        "            a += 1\n",
        "print(\"predict : \", a / traindata_num)\n",
        "# predict :  0.6666666666666666(50/75)\n",
        "\n",
        "import collections\n",
        "# IDをカテゴリに戻す用\n",
        "index2category = {}\n",
        "for cat, idx in category2index.items():\n",
        "    index2category[idx] = cat\n",
        "\n",
        "# answer -> 正解ラベル、predict->LSTMの予測結果、exact->正解してたらO,間違っていたらX\n",
        "predict_df = pd.DataFrame(columns=[\"answer\", \"predict\", \"exact\"])\n",
        "\n",
        "# 予測して結果を上のDFに格納\n",
        "with torch.no_grad():\n",
        "    for ii in range(0,len(test_data)):\n",
        "        data = test_data.iloc[ii][:-1]\n",
        "        cat = test_data.iloc[ii]['index']\n",
        "\n",
        "        inputs = torch.tensor(np.array(data.astype('f')))\n",
        "        # GPUにTensorを転送\n",
        "        inputs = inputs.to(device)\n",
        "        # 順伝播の結果を受け取る\n",
        "        out = net(inputs)\n",
        "        # 正解カテゴリをテンソル化\n",
        "        answer = category2tensor(cat)\n",
        "        # GPUにTensorを転送\n",
        "        answer = answer.to(device)\n",
        "\n",
        "        # out = model(sentence2index(title))\n",
        "        _, predict = torch.max(out, 1)\n",
        "        # answer = category2tensor(category)\n",
        "        exact = \"O\" if predict.item() == answer.item() else \"X\"\n",
        "        s = pd.Series([answer.item(), predict.item(), exact], index=predict_df.columns)\n",
        "        predict_df = predict_df.append(s, ignore_index=True)\n",
        "\n",
        "print(predict_df)"
      ],
      "execution_count": null,
      "outputs": []
    }
  ]
}